{
 "cells": [
  {
   "cell_type": "code",
   "execution_count": 3,
   "source": [
    "import random\n",
    "\n",
    "def create_person():\n",
    "    '''Assign and return a random birthday, excluding leap years'''\n",
    "    birthday = random.randint(0,364)\n",
    "    return birthday\n",
    "\n",
    "def test_room(n):\n",
    "    '''Create a room filled with with `n` people, return `True` if at least two share a birthday'''\n",
    "    room = set()\n",
    "    for i in range(n):\n",
    "        new_person = create_person()\n",
    "        room.add(new_person)\n",
    "    return len(room) != n\n",
    "\n",
    "def run(trials, people_per_room):\n",
    "    successes = 0\n",
    "    for _ in range(trials):\n",
    "        if test_room(people_per_room): successes += 1\n",
    "\n",
    "    return f'In {trials:,} tries of {people_per_room} per room, {successes:,} had at least two people sharing a birthday'\n",
    "\n",
    "trials = 10000\n",
    "people_per_room = 23\n",
    "\n",
    "run(trials, people_per_room)"
   ],
   "outputs": [
    {
     "output_type": "execute_result",
     "data": {
      "text/plain": [
       "'In 10,000 tries of 23 per room, 4,939 had at least two people sharing a birthday'"
      ]
     },
     "metadata": {},
     "execution_count": 3
    }
   ],
   "metadata": {}
  }
 ],
 "metadata": {
  "orig_nbformat": 4,
  "language_info": {
   "name": "python",
   "version": "3.9.5",
   "mimetype": "text/x-python",
   "codemirror_mode": {
    "name": "ipython",
    "version": 3
   },
   "pygments_lexer": "ipython3",
   "nbconvert_exporter": "python",
   "file_extension": ".py"
  },
  "kernelspec": {
   "name": "python3",
   "display_name": "Python 3.9.5 64-bit"
  },
  "interpreter": {
   "hash": "916dbcbb3f70747c44a77c7bcd40155683ae19c65e1c03b4aa3499c5328201f1"
  }
 },
 "nbformat": 4,
 "nbformat_minor": 2
}